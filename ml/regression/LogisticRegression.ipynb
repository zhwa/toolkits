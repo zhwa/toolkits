{
 "cells": [
  {
   "cell_type": "markdown",
   "metadata": {},
   "source": [
    "# Logistic Regression"
   ]
  },
  {
   "cell_type": "markdown",
   "metadata": {},
   "source": [
    "### Linear Classifier\n",
    "\n",
    "A linear classifier computes the score of one of $K$ classes as a weighted sum of all of its  values across all $d$ features. The general form to calculate the score is:\n",
    "\n",
    "$$\n",
    "f(x_i,W,b)=Wx_i+b,\n",
    "$$\n",
    "\n",
    "where $x_i$ is the $d-$dimensional feature vector with a known or unknown label $y_i$. The matrix $W$ (of size [K x D]), and the vector $b$ (of size [K x 1]) are the parameters of the function. The parameters in W are often called the weights, and b is called the bias vector because it influences the output scores."
   ]
  },
  {
   "cell_type": "markdown",
   "metadata": {},
   "source": [
    "Consider an example of mapping an image to class scores. For the sake of visualization, we assume the image only has 4 pixels (4 monochrome pixels, we are not considering color channels in this example for brevity), and that we have 3 classes (red (cat), green (dog), blue (ship) class). (Clarification: in particular, the colors here simply indicate 3 classes and are not related to the RGB channels.) We stretch the image pixels into a column and perform matrix multiplication to get the scores for each class. Note that this particular set of weights W is not good at all: the weights assign our cat image a very low cat score. In particular, this set of weights seems convinced that it's looking at a dog.\n",
    "\n",
    "![demo](https://cs231n.github.io/assets/imagemap.jpg)"
   ]
  },
  {
   "cell_type": "markdown",
   "metadata": {},
   "source": [
    "### Logistic Regression\n",
    "\n",
    "In the linear classifier we defined a function from the feature vectors to class scores, which was parameterized by a set of weights $W$. Moreover, we saw that we don't have control over the data $(x_i,y_i)$ (it is fixed and given), but we do have control over these weights and we want to set them so that the predicted class scores are consistent with the ground truth labels in the training data.\n",
    "\n",
    "For example, going back to the example image of a cat and its scores for the classes \"cat\", \"dog\" and \"ship\", we saw that the particular set of weights in that example was not very good at all: We fed in the pixels that depict a cat but the cat score came out very low (-96.8) compared to the other classes (dog score 437.9 and ship score 61.95). We are going to measure our unhappiness with outcomes such as this one with a loss function (or sometimes also referred to as the cost function or the objective). Intuitively, the loss will be high if we're doing a poor job of classifying the training data, and it will be low if we're doing well.\n",
    "\n",
    "In Logistic Regression, or the Softmax classifier the loss function is calculated based on the normalized probability of the correct labels. More specifically, the function mapping $f(x_i;W)=Wx_i$ is interpreted as these scores as the unnormalized log probabilities for each class. \n",
    "\n",
    "Looking at the expression, we see that\n",
    "\n",
    "$$\n",
    "P(y_i \\mid x_i; W) = \\frac{e^{f_{y_i}}}{\\sum_j e^{f_j} }\n",
    "$$\n",
    "\n",
    "can be interpreted as the (normalized) probability assigned to the correct label \\\\(y_i\\\\) given the feature vector \\\\(x_i\\\\) and parameterized by \\\\(W\\\\). To see this, remember that the Logistic Regression classifier interprets the scores inside the output vector \\\\(f\\\\) as the unnormalized log probabilities. Exponentiating these quantities therefore gives the (unnormalized) probabilities, and the division performs the normalization so that the probabilities sum to one. "
   ]
  },
  {
   "cell_type": "markdown",
   "metadata": {},
   "source": [
    "### Loss Function\n",
    "\n",
    "The loss function for Logistic Regression, a log-likelihood loss, will have the following form:\n",
    "\n",
    "$$\n",
    "L_i = -\\log{P(y_i|x_i;W)} = -\\log\\left(\\frac{e^{f_{y_i}}}{ \\sum_j e^{f_j} }\\right) \\hspace{0.5in} \\text{or equivalently} \\hspace{0.5in} L_i = -f_{y_i} + \\log\\sum_j e^{f_j}\n",
    "$$\n",
    "\n",
    "where we are using the notation \\\\(f_j\\\\) to mean the $j$-th element of the vector of class scores \\\\(f\\\\). The full loss for the dataset is the mean of \\\\(L_i\\\\) over all training examples. Some times, to control overfitting, the full loss function will be coupled with a regularization term \\\\(R(W)\\\\). The function \\\\(f_j(z) = \\frac{e^{z_j}}{\\sum_k e^{z_k}} \\\\) is called the **softmax function**: It takes a vector of arbitrary real-valued scores (in \\\\(z\\\\)) and squashes it to a vector of values between zero and one that sum to one. The full cross-entropy loss that involves the softmax function might look scary if you're seeing it for the first time but it is relatively easy to motivate.\n",
    "\n",
    "In the probabilistic interpretation, we are therefore minimizing the negative log likelihood of the correct class, which can be interpreted as performing *Maximum Likelihood Estimation* (MLE)."
   ]
  },
  {
   "cell_type": "markdown",
   "metadata": {},
   "source": [
    "#### Gradient Decent\n",
    "\n",
    "The derivative of $L_i$ with respect to the $k$th weight vectorcan be calculated as follows:\n",
    "\n",
    "- If $y_i = k$:\n",
    "\n",
    "$$\n",
    "\\frac{\\partial L_i}{W_k} = (P(y_i|x_i;W) - 1)x_i\n",
    "$$\n",
    "\n",
    "- If $y_i \\neq k$:\n",
    "\n",
    "$$\n",
    "\\frac{\\partial L_i}{W_k} = P(k|x_i;W)x_i\n",
    "$$\n",
    "\n",
    "In the program, an indicator function, or judge function $I(y_i,k)$ could be employed to simplify the code."
   ]
  },
  {
   "cell_type": "code",
   "execution_count": 2,
   "metadata": {
    "collapsed": true
   },
   "outputs": [],
   "source": [
    "from __future__ import division\n",
    "import numpy as np\n",
    "from sklearn import datasets\n",
    "import matplotlib.pyplot as plt\n",
    "% matplotlib inline"
   ]
  },
  {
   "cell_type": "code",
   "execution_count": 3,
   "metadata": {
    "collapsed": true
   },
   "outputs": [],
   "source": [
    "class LR(object):\n",
    "    def __init__(self, d, K):\n",
    "        self.K = int(K) # K classes\n",
    "        self.d = int(d) # d dimensions\n",
    "        self.beta = np.random.rand(K,d)\n",
    "\n",
    "    def prb(self, x, k):\n",
    "        g = lambda k: np.exp(self.beta[k,:].dot(x))\n",
    "        return g(k) / sum(map(g, range(self.K)))\n",
    "\n",
    "    def predict(self, x):\n",
    "        prob = map(lambda k: self.prb(x, k), range(self.K))\n",
    "        return prob.index(max(prob))\n",
    "\n",
    "    def judge(self, y, k):\n",
    "        return int(y) == int(k)\n",
    "\n",
    "    def score(self, data, labels):\n",
    "        err = 0\n",
    "        for (x,y) in zip(data, labels):\n",
    "            p = self.predict(x)\n",
    "            err += (p!=y)\n",
    "        return 1 - err / len(data)\n",
    "\n",
    "    def train(self, data, labels):\n",
    "        \"\"\"\n",
    "        Gradient Decent\n",
    "        \"\"\"\n",
    "        alpha = 1e-3\n",
    "        iters = 0\n",
    "        num = 100\n",
    "        while iters < num:\n",
    "            iters += 1\n",
    "            for k in range(self.K):\n",
    "                s = map(lambda (x,y): (self.prb(x, k) - self.judge(y, k)) * x, zip(data, labels))\n",
    "                step = np.sum(s, axis=0)\n",
    "                self.beta[k,:] -= alpha * step"
   ]
  },
  {
   "cell_type": "markdown",
   "metadata": {},
   "source": [
    "#### Test Function"
   ]
  },
  {
   "cell_type": "code",
   "execution_count": 4,
   "metadata": {
    "collapsed": true
   },
   "outputs": [],
   "source": [
    "def test():\n",
    "    data = datasets.load_iris()\n",
    "    X = data.data[:100,:2]\n",
    "    X = np.hstack((X, np.ones((100,1))))\n",
    "    y = data.target[:100]\n",
    "    \"\"\" raw data plot \"\"\"\n",
    "    fig = plt.figure()\n",
    "    ax = fig.add_subplot(111)\n",
    "    ax.scatter(X[:50,0], X[:50,1], color=\"black\", marker=\"s\", label=\"Setosa\")\n",
    "    ax.scatter(X[50:,0], X[50:,1], color=\"red\", marker=\"s\", label=\"Versicolor\")\n",
    "    \"\"\" classifier \"\"\"\n",
    "    clf = LR(d=3, K=2)\n",
    "    clf.train(X, y)\n",
    "    \"\"\" decision region \"\"\"\n",
    "    for ix in np.arange(4.0, 7.5, 0.1):\n",
    "        for iy in np.arange(1.5, 5.0, 0.1):\n",
    "            pred = clf.predict(np.array([ix,iy,1]))\n",
    "            if pred == y[0]:\n",
    "                ax.scatter(ix, iy, color=\"green\", alpha=0.2)\n",
    "            else:\n",
    "                ax.scatter(ix, iy, color=\"blue\", alpha=0.2)\n",
    "    ax.set_xlim(4.0, 7.5)\n",
    "    ax.set_ylim(1.5, 5.0)\n",
    "    ax.set_xlabel(\"Sepal Length\")\n",
    "    ax.set_ylabel(\"Sepal Width\")\n",
    "    ax.legend()\n",
    "    ax.grid()\n",
    "    plt.show()"
   ]
  },
  {
   "cell_type": "code",
   "execution_count": 5,
   "metadata": {
    "collapsed": false
   },
   "outputs": [
    {
     "data": {
      "image/png": "[encoded data removed]",
      "text/plain": [
       "<matplotlib.figure.Figure at 0x663c8b0>"
      ]
     },
     "metadata": {},
     "output_type": "display_data"
    }
   ],
   "source": [
    "test()"
   ]
  },
  {
   "cell_type": "markdown",
   "metadata": {},
   "source": [
    "### Other Notes\n",
    "\n",
    " - [1]. In the binary classification case, LR could be simplified significantly. But mathetically all the various forms are equivalent.\n",
    " \n",
    " - [2]. There are many interpretations of LR (and its loss function). For example, the cross-entropy point of view."
   ]
  }
 ],
 "metadata": {
  "kernelspec": {
   "display_name": "Python 2",
   "language": "python",
   "name": "python2"
  },
  "language_info": {
   "codemirror_mode": {
    "name": "ipython",
    "version": 2
   },
   "file_extension": ".py",
   "mimetype": "text/x-python",
   "name": "python",
   "nbconvert_exporter": "python",
   "pygments_lexer": "ipython2",
   "version": "2.7.11"
  }
 },
 "nbformat": 4,
 "nbformat_minor": 0
}
